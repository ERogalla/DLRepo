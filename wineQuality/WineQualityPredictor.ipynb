{
 "cells": [
  {
   "cell_type": "markdown",
   "metadata": {},
   "source": [
    "# Wine Quality Predictor\n",
    "\n",
    "The first section of this project will predict using only numpy calculations\n",
    "\n",
    "I will use Dropout, the Adam Optimizer and and Minibatch Sampling on this Model "
   ]
  },
  {
   "cell_type": "code",
   "execution_count": 104,
   "metadata": {},
   "outputs": [],
   "source": [
    "import numpy as np\n",
    "from sklearn import preprocessing"
   ]
  },
  {
   "cell_type": "code",
   "execution_count": 109,
   "metadata": {},
   "outputs": [],
   "source": [
    "# load the data from winequality dataset\n",
    "# has about 5K entries\n",
    "# data from https://machinelearningmastery.com/standard-machine-learning-datasets/\n",
    "\n",
    "def loadDataset():\n",
    "    data = np.genfromtxt(\"data/winequality-white.csv\", delimiter = \";\")\n",
    "    data = np.delete(data, 0, axis = 0)\n",
    "    \n",
    "    train, test = data[:3500, :], data[3500:, :]\n",
    "    \n",
    "    train_x = train[:,:-1].T\n",
    "    train_y = train[:,-1].reshape(1, train.shape[0])\n",
    "    \n",
    "    train_x = preprocessing.normalize(train_x)\n",
    "    \n",
    "    test_x = test[:,:-1].T\n",
    "    test_y = test[:,-1].reshape(1, test.shape[0])\n",
    "    \n",
    "    return (train_x, train_y, test_x, test_y)\n",
    "    "
   ]
  },
  {
   "cell_type": "code",
   "execution_count": 110,
   "metadata": {},
   "outputs": [
    {
     "name": "stdout",
     "output_type": "stream",
     "text": [
      "[[0.01678885 0.01510996 0.0194271  ... 0.01846773 0.0153498  0.01463028]\n",
      " [0.01556571 0.01729523 0.01614222 ... 0.02478984 0.01729523 0.01902476]\n",
      " [0.01655237 0.01563279 0.01839152 ... 0.0459788  0.01655237 0.01379364]\n",
      " ...\n",
      " [0.01583671 0.01742038 0.01720922 ... 0.01736759 0.01784269 0.01747317]\n",
      " [0.01513307 0.01647823 0.01479678 ... 0.01681452 0.01782339 0.01345161]\n",
      " [0.01420032 0.0153299  0.0162981  ... 0.01936408 0.01694357 0.02113912]]\n"
     ]
    }
   ],
   "source": [
    "train_x, train_y, test_x, test_y = loadDataset()\n",
    "print(train_x)"
   ]
  },
  {
   "cell_type": "code",
   "execution_count": null,
   "metadata": {},
   "outputs": [],
   "source": []
  },
  {
   "cell_type": "code",
   "execution_count": null,
   "metadata": {},
   "outputs": [],
   "source": []
  }
 ],
 "metadata": {
  "kernelspec": {
   "display_name": "Python 3",
   "language": "python",
   "name": "python3"
  },
  "language_info": {
   "codemirror_mode": {
    "name": "ipython",
    "version": 3
   },
   "file_extension": ".py",
   "mimetype": "text/x-python",
   "name": "python",
   "nbconvert_exporter": "python",
   "pygments_lexer": "ipython3",
   "version": "3.6.9"
  }
 },
 "nbformat": 4,
 "nbformat_minor": 4
}
